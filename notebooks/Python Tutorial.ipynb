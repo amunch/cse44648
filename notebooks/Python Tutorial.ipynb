{
 "cells": [
  {
   "cell_type": "markdown",
   "metadata": {},
   "source": [
    "# Introduction to Working with Data in Python\n",
    "\n",
    "### Goals\n",
    "\n",
    "- Become familiar with basic tools and methods for data munging and cleaning in Python\n",
    "\n",
    "Tasks\n",
    "\n",
    "- Learn a little history of Python & Jupyter\n",
    "- Start an Jupyter Notebook server, create an notebook and navigate around the notebook \n",
    "- Perform queries using Python\n",
    "- Load data from a CSV file into a pandas dataframe \n",
    "- Write a function that changes column names to snake_case\n",
    "- Count and remove missing values\n",
    "- Fill missing values with an interpolation\n",
    "- Group and plot data"
   ]
  },
  {
   "cell_type": "markdown",
   "metadata": {},
   "source": [
    "# Background on Python, Jupyter, and pandas\n",
    "\n",
    "[Python](https://www.python.org/) is a high-level general purpose programming language named after a [British comedy troup](https://www.youtube.com/user/MontyPython), created by a [Dutch benevolent dictator](http://en.wikipedia.org/wiki/Guido_van_Rossum) and maintained by an international group of fiendly but opinionated Python enthusiasts (`import this!`). \n",
    "\n",
    "It's popular for data science because it's powerful, fast, plays well with others, runs everywhere, is easy to learn, highly readable, and open. Because it's general purpose, it can be used for full-stack development. It has a growing list of useful libraries for scientitic programming, data manipulation, and data analysis (NumPy, SciPy, pandas, scikit-learn, StatsModels, matplotlib, PyBrain, etc.).\n",
    "\n",
    "[Jupyter](http://jupyter.org/) is an enhanced, interactive Python interpreter started as a grad school project by [Fernando Perez](http://fperez.org/). Jupyter notebooks allow you to run a multi-language (Python, R, Julia, Markdown, LaTeX, etc.) interpreter in your browser to create rich, portable, and sharable code documents.\n",
    "\n",
    "[pandas](http://pandas.pydata.org/) is a libary created by [Wes McKinney](http://blog.wesmckinney.com/) that introduces the R-like dataframe object to Python, and makes working with data in Python a lot easier."
   ]
  },
  {
   "cell_type": "markdown",
   "metadata": {},
   "source": [
    "## Getting started with Jupyter Notebooks\n",
    "\n",
    "To start up an Jupyter notebook server, simply navigate to the directory where you want the notebooks to be saved and run the command\n",
    "\n",
    "```\n",
    "jupyter notebook\n",
    "```\n",
    "\n",
    "A browser should open with a notebook navigator. Click the \"New\" button and select \"Python 2\" or \"Python 3\".\n",
    "\n",
    "A beautiful blank notebook should open in a new tab.\n",
    "\n",
    "Name the notebook by clicking on \"Untitled\" at the top of the page.\n",
    "\n",
    "Notebooks are sequences of cells. Cells can be markdown, code, or raw text. Change the first cell to markdown and briefly describe what you are going to do in the notebook. "
   ]
  },
  {
   "cell_type": "markdown",
   "metadata": {},
   "source": [
    "## Getting started with pandas\n",
    "\n",
    "We start by importing the libraries we're going to use: `pandas` and `matplotlib`"
   ]
  },
  {
   "cell_type": "code",
   "execution_count": 1,
   "metadata": {
    "collapsed": false
   },
   "outputs": [],
   "source": [
    "import pandas as pd\n",
    "%matplotlib inline"
   ]
  },
  {
   "cell_type": "markdown",
   "metadata": {},
   "source": [
    "## Loading data into a DataFrame\n",
    "\n",
    "The pandas DataFrame is a two-dimensional size-mutable, potentially heterogeneous tabular data structure with labeled axes. It's basically a spreadsheet you can program and it's an incredibly useful Python object for data analysis. \n",
    "\n",
    "You can load data into a dataframe using pandas' excellent `read_*` functions.\n",
    "\n",
    "We're going to try two of them: read_csv and read_sql.\n",
    "\n",
    "*Pro tip*: Jupyter will output the docstring (i.e., source code comments) for a command just by asking it a question."
   ]
  },
  {
   "cell_type": "code",
   "execution_count": 2,
   "metadata": {
    "collapsed": false
   },
   "outputs": [],
   "source": [
    "pd.read_sql?\n",
    "pd.read_csv?"
   ]
  },
  {
   "cell_type": "markdown",
   "metadata": {},
   "source": [
    "Now let's read data in from a CSV file:"
   ]
  },
  {
   "cell_type": "code",
   "execution_count": 3,
   "metadata": {
    "collapsed": false
   },
   "outputs": [],
   "source": [
    "df = pd.read_csv('https://raw.githubusercontent.com/cse44648/cse44648/master/datasets/hypothyroid.csv')"
   ]
  },
  {
   "cell_type": "markdown",
   "metadata": {},
   "source": [
    "## Viewing your dataframe\n",
    "\n",
    "You can use `head` and `tail` to get a view of your data."
   ]
  },
  {
   "cell_type": "code",
   "execution_count": 4,
   "metadata": {
    "collapsed": false
   },
   "outputs": [
    {
     "data": {
      "text/html": [
       "<div>\n",
       "<table border=\"1\" class=\"dataframe\">\n",
       "  <thead>\n",
       "    <tr style=\"text-align: right;\">\n",
       "      <th></th>\n",
       "      <th>Age</th>\n",
       "      <th>Sex</th>\n",
       "      <th>On Thyroxine</th>\n",
       "      <th>Query on Thyroxine</th>\n",
       "      <th>On Antithyroid Medication</th>\n",
       "      <th>Thyroid Surgery</th>\n",
       "      <th>Query Hypothyroid</th>\n",
       "      <th>Query Hyperthyroid</th>\n",
       "      <th>Pregnant</th>\n",
       "      <th>Sick</th>\n",
       "      <th>...</th>\n",
       "      <th>T3</th>\n",
       "      <th>TT4 Measured</th>\n",
       "      <th>TT4</th>\n",
       "      <th>T4U Measured</th>\n",
       "      <th>T4U</th>\n",
       "      <th>FTI Measured</th>\n",
       "      <th>FTI</th>\n",
       "      <th>TBG Measured</th>\n",
       "      <th>TBG</th>\n",
       "      <th>Class</th>\n",
       "    </tr>\n",
       "  </thead>\n",
       "  <tbody>\n",
       "    <tr>\n",
       "      <th>3160</th>\n",
       "      <td>77</td>\n",
       "      <td>M</td>\n",
       "      <td>f</td>\n",
       "      <td>f</td>\n",
       "      <td>f</td>\n",
       "      <td>f</td>\n",
       "      <td>f</td>\n",
       "      <td>f</td>\n",
       "      <td>f</td>\n",
       "      <td>f</td>\n",
       "      <td>...</td>\n",
       "      <td>0.6</td>\n",
       "      <td>y</td>\n",
       "      <td>71</td>\n",
       "      <td>y</td>\n",
       "      <td>0.68</td>\n",
       "      <td>y</td>\n",
       "      <td>104</td>\n",
       "      <td>n</td>\n",
       "      <td>NaN</td>\n",
       "      <td>negative</td>\n",
       "    </tr>\n",
       "    <tr>\n",
       "      <th>3161</th>\n",
       "      <td>74</td>\n",
       "      <td>F</td>\n",
       "      <td>f</td>\n",
       "      <td>f</td>\n",
       "      <td>f</td>\n",
       "      <td>f</td>\n",
       "      <td>f</td>\n",
       "      <td>f</td>\n",
       "      <td>f</td>\n",
       "      <td>f</td>\n",
       "      <td>...</td>\n",
       "      <td>0.1</td>\n",
       "      <td>y</td>\n",
       "      <td>65</td>\n",
       "      <td>y</td>\n",
       "      <td>0.48</td>\n",
       "      <td>y</td>\n",
       "      <td>137</td>\n",
       "      <td>n</td>\n",
       "      <td>NaN</td>\n",
       "      <td>negative</td>\n",
       "    </tr>\n",
       "    <tr>\n",
       "      <th>3162</th>\n",
       "      <td>56</td>\n",
       "      <td>F</td>\n",
       "      <td>t</td>\n",
       "      <td>f</td>\n",
       "      <td>f</td>\n",
       "      <td>f</td>\n",
       "      <td>f</td>\n",
       "      <td>f</td>\n",
       "      <td>f</td>\n",
       "      <td>f</td>\n",
       "      <td>...</td>\n",
       "      <td>1.8</td>\n",
       "      <td>y</td>\n",
       "      <td>139</td>\n",
       "      <td>y</td>\n",
       "      <td>0.97</td>\n",
       "      <td>y</td>\n",
       "      <td>143</td>\n",
       "      <td>n</td>\n",
       "      <td>NaN</td>\n",
       "      <td>negative</td>\n",
       "    </tr>\n",
       "  </tbody>\n",
       "</table>\n",
       "<p>3 rows × 26 columns</p>\n",
       "</div>"
      ],
      "text/plain": [
       "      Age Sex On Thyroxine Query on Thyroxine On Antithyroid Medication  \\\n",
       "3160   77   M            f                  f                         f   \n",
       "3161   74   F            f                  f                         f   \n",
       "3162   56   F            t                  f                         f   \n",
       "\n",
       "     Thyroid Surgery Query Hypothyroid Query Hyperthyroid Pregnant Sick  \\\n",
       "3160               f                 f                  f        f    f   \n",
       "3161               f                 f                  f        f    f   \n",
       "3162               f                 f                  f        f    f   \n",
       "\n",
       "        ...      T3 TT4 Measured  TT4 T4U Measured   T4U FTI Measured  FTI  \\\n",
       "3160    ...     0.6            y   71            y  0.68            y  104   \n",
       "3161    ...     0.1            y   65            y  0.48            y  137   \n",
       "3162    ...     1.8            y  139            y  0.97            y  143   \n",
       "\n",
       "     TBG Measured  TBG     Class  \n",
       "3160            n  NaN  negative  \n",
       "3161            n  NaN  negative  \n",
       "3162            n  NaN  negative  \n",
       "\n",
       "[3 rows x 26 columns]"
      ]
     },
     "execution_count": 4,
     "metadata": {},
     "output_type": "execute_result"
    }
   ],
   "source": [
    "df.head()\n",
    "df.tail(3)"
   ]
  },
  {
   "cell_type": "markdown",
   "metadata": {},
   "source": [
    "We can get a sense for the size and shape of the data using `shape`"
   ]
  },
  {
   "cell_type": "code",
   "execution_count": 5,
   "metadata": {
    "collapsed": false
   },
   "outputs": [
    {
     "data": {
      "text/plain": [
       "(3163, 26)"
      ]
     },
     "execution_count": 5,
     "metadata": {},
     "output_type": "execute_result"
    }
   ],
   "source": [
    "df.shape"
   ]
  },
  {
   "cell_type": "markdown",
   "metadata": {},
   "source": [
    "Get a sense for the type of each column using `dtypes`:"
   ]
  },
  {
   "cell_type": "code",
   "execution_count": 6,
   "metadata": {
    "collapsed": false
   },
   "outputs": [
    {
     "data": {
      "text/plain": [
       "Age                          float64\n",
       "Sex                           object\n",
       "On Thyroxine                  object\n",
       "Query on Thyroxine            object\n",
       "On Antithyroid Medication     object\n",
       "Thyroid Surgery               object\n",
       "Query Hypothyroid             object\n",
       "Query Hyperthyroid            object\n",
       "Pregnant                      object\n",
       "Sick                          object\n",
       "Tumor                         object\n",
       "Lithium                       object\n",
       "Goitre                        object\n",
       "TSH Measured                  object\n",
       "TSH                          float64\n",
       "T3 Measured                   object\n",
       "T3                           float64\n",
       "TT4 Measured                  object\n",
       "TT4                          float64\n",
       "T4U Measured                  object\n",
       "T4U                          float64\n",
       "FTI Measured                  object\n",
       "FTI                          float64\n",
       "TBG Measured                  object\n",
       "TBG                          float64\n",
       "Class                         object\n",
       "dtype: object"
      ]
     },
     "execution_count": 6,
     "metadata": {},
     "output_type": "execute_result"
    }
   ],
   "source": [
    "df.dtypes"
   ]
  },
  {
   "cell_type": "markdown",
   "metadata": {},
   "source": [
    "## Cleaning up column names\n",
    "\n",
    "Notice that the column names have spaces. "
   ]
  },
  {
   "cell_type": "code",
   "execution_count": 7,
   "metadata": {
    "collapsed": false
   },
   "outputs": [
    {
     "data": {
      "text/plain": [
       "Index(['Age', 'Sex', 'On Thyroxine', 'Query on Thyroxine',\n",
       "       'On Antithyroid Medication', 'Thyroid Surgery', 'Query Hypothyroid',\n",
       "       'Query Hyperthyroid', 'Pregnant', 'Sick', 'Tumor', 'Lithium', 'Goitre',\n",
       "       'TSH Measured', 'TSH', 'T3 Measured', 'T3', 'TT4 Measured', 'TT4',\n",
       "       'T4U Measured', 'T4U', 'FTI Measured', 'FTI', 'TBG Measured', 'TBG',\n",
       "       'Class'],\n",
       "      dtype='object')"
      ]
     },
     "execution_count": 7,
     "metadata": {},
     "output_type": "execute_result"
    }
   ],
   "source": [
    "df.columns"
   ]
  },
  {
   "cell_type": "markdown",
   "metadata": {},
   "source": [
    "That's a bummer, because columns without spaces in their names allow us to take a shortcut in selecting columns. \n",
    "\n",
    "Instead of referencing columns like this\n",
    "\n",
    "```\n",
    "df['On Antithyroid Medication']\n",
    "```\n",
    "\n",
    "we would love to be able to use tab completion and reference the columns like this\n",
    "\n",
    "```\n",
    "df.on_antithyroid_medication\n",
    "```\n",
    "\n",
    "Let's fix it, and learn a little about defining Python functions, real expressions, and list comprehension in the process."
   ]
  },
  {
   "cell_type": "code",
   "execution_count": 8,
   "metadata": {
    "collapsed": false
   },
   "outputs": [],
   "source": [
    "import re\n",
    "\n",
    "def spaces_to_snake(column_name):\n",
    "    \"\"\"\n",
    "    Converts a string that has spaces into snake_case.\n",
    "\n",
    "    Example:\n",
    "        print camel_to_snake(\"I LOVE DATA SCIENCE\")\n",
    "        > I_LOVE_DATA_SCIENCE\n",
    "\n",
    "    To see how to apply this to camel case, see:\n",
    "        http://stackoverflow.com/questions/1175208/elegant-python-function-to-convert-camelcase-to-camel-case\n",
    "    \"\"\"\n",
    "    s = re.sub(r\"\\s+\", '_', column_name)\n",
    "    return s.lower()\n",
    "\n",
    "df.columns = [spaces_to_snake(col) for col in df.columns]\n",
    "\n",
    "#Note that there are more elegant and \"Pythonic\" ways to do this."
   ]
  },
  {
   "cell_type": "code",
   "execution_count": 9,
   "metadata": {
    "collapsed": false
   },
   "outputs": [
    {
     "data": {
      "text/plain": [
       "Index(['age', 'sex', 'on_thyroxine', 'query_on_thyroxine',\n",
       "       'on_antithyroid_medication', 'thyroid_surgery', 'query_hypothyroid',\n",
       "       'query_hyperthyroid', 'pregnant', 'sick', 'tumor', 'lithium', 'goitre',\n",
       "       'tsh_measured', 'tsh', 't3_measured', 't3', 'tt4_measured', 'tt4',\n",
       "       't4u_measured', 't4u', 'fti_measured', 'fti', 'tbg_measured', 'tbg',\n",
       "       'class'],\n",
       "      dtype='object')"
      ]
     },
     "execution_count": 9,
     "metadata": {},
     "output_type": "execute_result"
    }
   ],
   "source": [
    "df.columns"
   ]
  },
  {
   "cell_type": "code",
   "execution_count": 10,
   "metadata": {
    "collapsed": false
   },
   "outputs": [
    {
     "data": {
      "text/plain": [
       "age                          float64\n",
       "sex                           object\n",
       "on_thyroxine                  object\n",
       "query_on_thyroxine            object\n",
       "on_antithyroid_medication     object\n",
       "thyroid_surgery               object\n",
       "query_hypothyroid             object\n",
       "query_hyperthyroid            object\n",
       "pregnant                      object\n",
       "sick                          object\n",
       "tumor                         object\n",
       "lithium                       object\n",
       "goitre                        object\n",
       "tsh_measured                  object\n",
       "tsh                          float64\n",
       "t3_measured                   object\n",
       "t3                           float64\n",
       "tt4_measured                  object\n",
       "tt4                          float64\n",
       "t4u_measured                  object\n",
       "t4u                          float64\n",
       "fti_measured                  object\n",
       "fti                          float64\n",
       "tbg_measured                  object\n",
       "tbg                          float64\n",
       "class                         object\n",
       "dtype: object"
      ]
     },
     "execution_count": 10,
     "metadata": {},
     "output_type": "execute_result"
    }
   ],
   "source": [
    "df.dtypes"
   ]
  },
  {
   "cell_type": "markdown",
   "metadata": {},
   "source": [
    "Great. Now we can to reference columns using `df.variable_name` syntax.\n"
   ]
  },
  {
   "cell_type": "code",
   "execution_count": 11,
   "metadata": {
    "collapsed": false
   },
   "outputs": [
    {
     "data": {
      "text/plain": [
       "0    f\n",
       "1    f\n",
       "2    f\n",
       "3    f\n",
       "4    f\n",
       "Name: on_antithyroid_medication, dtype: object"
      ]
     },
     "execution_count": 11,
     "metadata": {},
     "output_type": "execute_result"
    }
   ],
   "source": [
    "df.on_antithyroid_medication.head()"
   ]
  },
  {
   "cell_type": "markdown",
   "metadata": {},
   "source": [
    "## Basic views into the data\n",
    "\n",
    "Lets get a better sense what these fields look like. \n",
    "\n",
    "Let's start by describing the entire dataset using the describe command."
   ]
  },
  {
   "cell_type": "code",
   "execution_count": 12,
   "metadata": {
    "collapsed": false
   },
   "outputs": [
    {
     "data": {
      "text/html": [
       "<div>\n",
       "<table border=\"1\" class=\"dataframe\">\n",
       "  <thead>\n",
       "    <tr style=\"text-align: right;\">\n",
       "      <th></th>\n",
       "      <th>age</th>\n",
       "      <th>tsh</th>\n",
       "      <th>t3</th>\n",
       "      <th>tt4</th>\n",
       "      <th>t4u</th>\n",
       "      <th>fti</th>\n",
       "      <th>tbg</th>\n",
       "    </tr>\n",
       "  </thead>\n",
       "  <tbody>\n",
       "    <tr>\n",
       "      <th>count</th>\n",
       "      <td>2717.000000</td>\n",
       "      <td>2695.000000</td>\n",
       "      <td>2468.000000</td>\n",
       "      <td>2914.000000</td>\n",
       "      <td>2915.000000</td>\n",
       "      <td>2916.000000</td>\n",
       "      <td>260.000000</td>\n",
       "    </tr>\n",
       "    <tr>\n",
       "      <th>mean</th>\n",
       "      <td>51.154214</td>\n",
       "      <td>5.923180</td>\n",
       "      <td>1.939749</td>\n",
       "      <td>108.850000</td>\n",
       "      <td>0.978199</td>\n",
       "      <td>115.397771</td>\n",
       "      <td>31.283077</td>\n",
       "    </tr>\n",
       "    <tr>\n",
       "      <th>std</th>\n",
       "      <td>19.294405</td>\n",
       "      <td>23.899467</td>\n",
       "      <td>0.996773</td>\n",
       "      <td>45.485419</td>\n",
       "      <td>0.226580</td>\n",
       "      <td>60.239572</td>\n",
       "      <td>19.224659</td>\n",
       "    </tr>\n",
       "    <tr>\n",
       "      <th>min</th>\n",
       "      <td>1.000000</td>\n",
       "      <td>0.000000</td>\n",
       "      <td>0.000000</td>\n",
       "      <td>2.000000</td>\n",
       "      <td>0.000000</td>\n",
       "      <td>0.000000</td>\n",
       "      <td>0.000000</td>\n",
       "    </tr>\n",
       "    <tr>\n",
       "      <th>25%</th>\n",
       "      <td>35.000000</td>\n",
       "      <td>0.000000</td>\n",
       "      <td>1.400000</td>\n",
       "      <td>83.000000</td>\n",
       "      <td>0.850000</td>\n",
       "      <td>91.000000</td>\n",
       "      <td>21.000000</td>\n",
       "    </tr>\n",
       "    <tr>\n",
       "      <th>50%</th>\n",
       "      <td>54.000000</td>\n",
       "      <td>0.700000</td>\n",
       "      <td>1.800000</td>\n",
       "      <td>104.000000</td>\n",
       "      <td>0.960000</td>\n",
       "      <td>107.000000</td>\n",
       "      <td>28.000000</td>\n",
       "    </tr>\n",
       "    <tr>\n",
       "      <th>75%</th>\n",
       "      <td>67.000000</td>\n",
       "      <td>2.300000</td>\n",
       "      <td>2.300000</td>\n",
       "      <td>128.000000</td>\n",
       "      <td>1.065000</td>\n",
       "      <td>129.000000</td>\n",
       "      <td>34.000000</td>\n",
       "    </tr>\n",
       "    <tr>\n",
       "      <th>max</th>\n",
       "      <td>98.000000</td>\n",
       "      <td>530.000000</td>\n",
       "      <td>10.200000</td>\n",
       "      <td>450.000000</td>\n",
       "      <td>2.210000</td>\n",
       "      <td>881.000000</td>\n",
       "      <td>122.000000</td>\n",
       "    </tr>\n",
       "  </tbody>\n",
       "</table>\n",
       "</div>"
      ],
      "text/plain": [
       "               age          tsh           t3          tt4          t4u  \\\n",
       "count  2717.000000  2695.000000  2468.000000  2914.000000  2915.000000   \n",
       "mean     51.154214     5.923180     1.939749   108.850000     0.978199   \n",
       "std      19.294405    23.899467     0.996773    45.485419     0.226580   \n",
       "min       1.000000     0.000000     0.000000     2.000000     0.000000   \n",
       "25%      35.000000     0.000000     1.400000    83.000000     0.850000   \n",
       "50%      54.000000     0.700000     1.800000   104.000000     0.960000   \n",
       "75%      67.000000     2.300000     2.300000   128.000000     1.065000   \n",
       "max      98.000000   530.000000    10.200000   450.000000     2.210000   \n",
       "\n",
       "               fti         tbg  \n",
       "count  2916.000000  260.000000  \n",
       "mean    115.397771   31.283077  \n",
       "std      60.239572   19.224659  \n",
       "min       0.000000    0.000000  \n",
       "25%      91.000000   21.000000  \n",
       "50%     107.000000   28.000000  \n",
       "75%     129.000000   34.000000  \n",
       "max     881.000000  122.000000  "
      ]
     },
     "execution_count": 12,
     "metadata": {},
     "output_type": "execute_result"
    }
   ],
   "source": [
    "df.describe()"
   ]
  },
  {
   "cell_type": "markdown",
   "metadata": {},
   "source": [
    "It looks like `describe` only works on numerical columns. For categorical data, we can use `value_counts`."
   ]
  },
  {
   "cell_type": "code",
   "execution_count": 13,
   "metadata": {
    "collapsed": false
   },
   "outputs": [
    {
     "data": {
      "text/plain": [
       "f    2702\n",
       "t     461\n",
       "Name: on_thyroxine, dtype: int64"
      ]
     },
     "execution_count": 13,
     "metadata": {},
     "output_type": "execute_result"
    }
   ],
   "source": [
    "pd.value_counts(df.on_thyroxine)"
   ]
  },
  {
   "cell_type": "markdown",
   "metadata": {},
   "source": [
    "Let's see if there are missing values for age in this dataset."
   ]
  },
  {
   "cell_type": "code",
   "execution_count": 14,
   "metadata": {
    "collapsed": false
   },
   "outputs": [
    {
     "data": {
      "text/plain": [
       "False    2717\n",
       "True      446\n",
       "Name: age, dtype: int64"
      ]
     },
     "execution_count": 14,
     "metadata": {},
     "output_type": "execute_result"
    }
   ],
   "source": [
    "pd.value_counts(df.age.isnull())"
   ]
  },
  {
   "cell_type": "markdown",
   "metadata": {},
   "source": [
    "What if we wanted to fill or drop the missing values? We can use `fillna` and `dropna`"
   ]
  },
  {
   "cell_type": "code",
   "execution_count": 15,
   "metadata": {
    "collapsed": false
   },
   "outputs": [],
   "source": [
    "df.age = df.age.fillna(-1)"
   ]
  },
  {
   "cell_type": "code",
   "execution_count": 16,
   "metadata": {
    "collapsed": false
   },
   "outputs": [
    {
     "data": {
      "text/plain": [
       "False    3163\n",
       "Name: age, dtype: int64"
      ]
     },
     "execution_count": 16,
     "metadata": {},
     "output_type": "execute_result"
    }
   ],
   "source": [
    "pd.value_counts(df.age.isnull())"
   ]
  },
  {
   "cell_type": "markdown",
   "metadata": {},
   "source": [
    "## Selecting and Subsetting Data\n",
    "\n",
    "Let's say we just wanted to work with the cases where the individual's age is unrecorded. We can subset using conditional logic."
   ]
  },
  {
   "cell_type": "code",
   "execution_count": 17,
   "metadata": {
    "collapsed": false
   },
   "outputs": [
    {
     "data": {
      "text/html": [
       "<div>\n",
       "<table border=\"1\" class=\"dataframe\">\n",
       "  <thead>\n",
       "    <tr style=\"text-align: right;\">\n",
       "      <th></th>\n",
       "      <th>age</th>\n",
       "      <th>sex</th>\n",
       "      <th>on_thyroxine</th>\n",
       "      <th>query_on_thyroxine</th>\n",
       "      <th>on_antithyroid_medication</th>\n",
       "      <th>thyroid_surgery</th>\n",
       "      <th>query_hypothyroid</th>\n",
       "      <th>query_hyperthyroid</th>\n",
       "      <th>pregnant</th>\n",
       "      <th>sick</th>\n",
       "      <th>...</th>\n",
       "      <th>t3</th>\n",
       "      <th>tt4_measured</th>\n",
       "      <th>tt4</th>\n",
       "      <th>t4u_measured</th>\n",
       "      <th>t4u</th>\n",
       "      <th>fti_measured</th>\n",
       "      <th>fti</th>\n",
       "      <th>tbg_measured</th>\n",
       "      <th>tbg</th>\n",
       "      <th>class</th>\n",
       "    </tr>\n",
       "  </thead>\n",
       "  <tbody>\n",
       "    <tr>\n",
       "      <th>26</th>\n",
       "      <td>-1</td>\n",
       "      <td>M</td>\n",
       "      <td>f</td>\n",
       "      <td>f</td>\n",
       "      <td>f</td>\n",
       "      <td>t</td>\n",
       "      <td>f</td>\n",
       "      <td>f</td>\n",
       "      <td>f</td>\n",
       "      <td>f</td>\n",
       "      <td>...</td>\n",
       "      <td>1.0</td>\n",
       "      <td>y</td>\n",
       "      <td>32.0</td>\n",
       "      <td>y</td>\n",
       "      <td>0.78</td>\n",
       "      <td>y</td>\n",
       "      <td>41.0</td>\n",
       "      <td>n</td>\n",
       "      <td>NaN</td>\n",
       "      <td>hypothyroid</td>\n",
       "    </tr>\n",
       "    <tr>\n",
       "      <th>44</th>\n",
       "      <td>-1</td>\n",
       "      <td>F</td>\n",
       "      <td>f</td>\n",
       "      <td>f</td>\n",
       "      <td>f</td>\n",
       "      <td>f</td>\n",
       "      <td>f</td>\n",
       "      <td>f</td>\n",
       "      <td>f</td>\n",
       "      <td>f</td>\n",
       "      <td>...</td>\n",
       "      <td>1.4</td>\n",
       "      <td>y</td>\n",
       "      <td>78.0</td>\n",
       "      <td>y</td>\n",
       "      <td>0.98</td>\n",
       "      <td>y</td>\n",
       "      <td>80.0</td>\n",
       "      <td>n</td>\n",
       "      <td>NaN</td>\n",
       "      <td>hypothyroid</td>\n",
       "    </tr>\n",
       "    <tr>\n",
       "      <th>50</th>\n",
       "      <td>-1</td>\n",
       "      <td>F</td>\n",
       "      <td>f</td>\n",
       "      <td>f</td>\n",
       "      <td>f</td>\n",
       "      <td>f</td>\n",
       "      <td>f</td>\n",
       "      <td>f</td>\n",
       "      <td>f</td>\n",
       "      <td>f</td>\n",
       "      <td>...</td>\n",
       "      <td>0.4</td>\n",
       "      <td>y</td>\n",
       "      <td>9.7</td>\n",
       "      <td>y</td>\n",
       "      <td>1.46</td>\n",
       "      <td>y</td>\n",
       "      <td>6.6</td>\n",
       "      <td>n</td>\n",
       "      <td>NaN</td>\n",
       "      <td>hypothyroid</td>\n",
       "    </tr>\n",
       "    <tr>\n",
       "      <th>59</th>\n",
       "      <td>-1</td>\n",
       "      <td>NaN</td>\n",
       "      <td>f</td>\n",
       "      <td>f</td>\n",
       "      <td>f</td>\n",
       "      <td>f</td>\n",
       "      <td>f</td>\n",
       "      <td>f</td>\n",
       "      <td>f</td>\n",
       "      <td>f</td>\n",
       "      <td>...</td>\n",
       "      <td>0.6</td>\n",
       "      <td>y</td>\n",
       "      <td>21.0</td>\n",
       "      <td>y</td>\n",
       "      <td>0.97</td>\n",
       "      <td>y</td>\n",
       "      <td>22.0</td>\n",
       "      <td>n</td>\n",
       "      <td>NaN</td>\n",
       "      <td>hypothyroid</td>\n",
       "    </tr>\n",
       "    <tr>\n",
       "      <th>61</th>\n",
       "      <td>-1</td>\n",
       "      <td>F</td>\n",
       "      <td>f</td>\n",
       "      <td>f</td>\n",
       "      <td>f</td>\n",
       "      <td>f</td>\n",
       "      <td>f</td>\n",
       "      <td>f</td>\n",
       "      <td>f</td>\n",
       "      <td>f</td>\n",
       "      <td>...</td>\n",
       "      <td>0.3</td>\n",
       "      <td>y</td>\n",
       "      <td>18.0</td>\n",
       "      <td>y</td>\n",
       "      <td>1.06</td>\n",
       "      <td>y</td>\n",
       "      <td>17.0</td>\n",
       "      <td>n</td>\n",
       "      <td>NaN</td>\n",
       "      <td>hypothyroid</td>\n",
       "    </tr>\n",
       "  </tbody>\n",
       "</table>\n",
       "<p>5 rows × 26 columns</p>\n",
       "</div>"
      ],
      "text/plain": [
       "    age  sex on_thyroxine query_on_thyroxine on_antithyroid_medication  \\\n",
       "26   -1    M            f                  f                         f   \n",
       "44   -1    F            f                  f                         f   \n",
       "50   -1    F            f                  f                         f   \n",
       "59   -1  NaN            f                  f                         f   \n",
       "61   -1    F            f                  f                         f   \n",
       "\n",
       "   thyroid_surgery query_hypothyroid query_hyperthyroid pregnant sick  \\\n",
       "26               t                 f                  f        f    f   \n",
       "44               f                 f                  f        f    f   \n",
       "50               f                 f                  f        f    f   \n",
       "59               f                 f                  f        f    f   \n",
       "61               f                 f                  f        f    f   \n",
       "\n",
       "       ...        t3 tt4_measured   tt4 t4u_measured   t4u fti_measured   fti  \\\n",
       "26     ...       1.0            y  32.0            y  0.78            y  41.0   \n",
       "44     ...       1.4            y  78.0            y  0.98            y  80.0   \n",
       "50     ...       0.4            y   9.7            y  1.46            y   6.6   \n",
       "59     ...       0.6            y  21.0            y  0.97            y  22.0   \n",
       "61     ...       0.3            y  18.0            y  1.06            y  17.0   \n",
       "\n",
       "   tbg_measured  tbg        class  \n",
       "26            n  NaN  hypothyroid  \n",
       "44            n  NaN  hypothyroid  \n",
       "50            n  NaN  hypothyroid  \n",
       "59            n  NaN  hypothyroid  \n",
       "61            n  NaN  hypothyroid  \n",
       "\n",
       "[5 rows x 26 columns]"
      ]
     },
     "execution_count": 17,
     "metadata": {},
     "output_type": "execute_result"
    }
   ],
   "source": [
    "df[df.age==-1].head()"
   ]
  },
  {
   "cell_type": "markdown",
   "metadata": {},
   "source": [
    "We can also subset using indexing like R.\n",
    "\n",
    "You can slice a Series by range using the [] operator"
   ]
  },
  {
   "cell_type": "code",
   "execution_count": 18,
   "metadata": {
    "collapsed": false
   },
   "outputs": [
    {
     "data": {
      "text/plain": [
       "3    24\n",
       "4    77\n",
       "5    85\n",
       "6    64\n",
       "7    72\n",
       "8    20\n",
       "9    42\n",
       "Name: age, dtype: float64"
      ]
     },
     "execution_count": 18,
     "metadata": {},
     "output_type": "execute_result"
    }
   ],
   "source": [
    "df.age[3:10]"
   ]
  },
  {
   "cell_type": "markdown",
   "metadata": {},
   "source": [
    "Or by location in the DataFrame using the `.iloc` method"
   ]
  },
  {
   "cell_type": "code",
   "execution_count": 19,
   "metadata": {
    "collapsed": false
   },
   "outputs": [
    {
     "data": {
      "text/html": [
       "<div>\n",
       "<table border=\"1\" class=\"dataframe\">\n",
       "  <thead>\n",
       "    <tr style=\"text-align: right;\">\n",
       "      <th></th>\n",
       "      <th>age</th>\n",
       "      <th>sex</th>\n",
       "      <th>on_thyroxine</th>\n",
       "      <th>query_on_thyroxine</th>\n",
       "    </tr>\n",
       "  </thead>\n",
       "  <tbody>\n",
       "    <tr>\n",
       "      <th>3</th>\n",
       "      <td>24</td>\n",
       "      <td>F</td>\n",
       "      <td>f</td>\n",
       "      <td>f</td>\n",
       "    </tr>\n",
       "    <tr>\n",
       "      <th>4</th>\n",
       "      <td>77</td>\n",
       "      <td>M</td>\n",
       "      <td>f</td>\n",
       "      <td>f</td>\n",
       "    </tr>\n",
       "    <tr>\n",
       "      <th>5</th>\n",
       "      <td>85</td>\n",
       "      <td>F</td>\n",
       "      <td>f</td>\n",
       "      <td>f</td>\n",
       "    </tr>\n",
       "    <tr>\n",
       "      <th>6</th>\n",
       "      <td>64</td>\n",
       "      <td>F</td>\n",
       "      <td>f</td>\n",
       "      <td>f</td>\n",
       "    </tr>\n",
       "    <tr>\n",
       "      <th>7</th>\n",
       "      <td>72</td>\n",
       "      <td>F</td>\n",
       "      <td>f</td>\n",
       "      <td>f</td>\n",
       "    </tr>\n",
       "    <tr>\n",
       "      <th>8</th>\n",
       "      <td>20</td>\n",
       "      <td>F</td>\n",
       "      <td>f</td>\n",
       "      <td>f</td>\n",
       "    </tr>\n",
       "    <tr>\n",
       "      <th>9</th>\n",
       "      <td>42</td>\n",
       "      <td>F</td>\n",
       "      <td>f</td>\n",
       "      <td>f</td>\n",
       "    </tr>\n",
       "  </tbody>\n",
       "</table>\n",
       "</div>"
      ],
      "text/plain": [
       "   age sex on_thyroxine query_on_thyroxine\n",
       "3   24   F            f                  f\n",
       "4   77   M            f                  f\n",
       "5   85   F            f                  f\n",
       "6   64   F            f                  f\n",
       "7   72   F            f                  f\n",
       "8   20   F            f                  f\n",
       "9   42   F            f                  f"
      ]
     },
     "execution_count": 19,
     "metadata": {},
     "output_type": "execute_result"
    }
   ],
   "source": [
    "df.iloc[3:10,0:4]"
   ]
  },
  {
   "cell_type": "markdown",
   "metadata": {},
   "source": [
    "The `.ix` method supports lookup by label as well as integers."
   ]
  },
  {
   "cell_type": "markdown",
   "metadata": {},
   "source": [
    "## Exporting data\n",
    "\n",
    "Pandas supports saving DataFrames to a variety of file formats using the `to_*` function. Let's save our updated data as a csv."
   ]
  },
  {
   "cell_type": "code",
   "execution_count": 20,
   "metadata": {
    "collapsed": false
   },
   "outputs": [],
   "source": [
    "df.to_csv(\"hypothyroid_1.csv\")"
   ]
  },
  {
   "cell_type": "markdown",
   "metadata": {},
   "source": [
    "## Groupby\n",
    "\n",
    "Often we want to examine difference among groups based on categorical values. For this `groupby` is incredibly valuable"
   ]
  },
  {
   "cell_type": "code",
   "execution_count": 21,
   "metadata": {
    "collapsed": false
   },
   "outputs": [
    {
     "data": {
      "text/html": [
       "<div>\n",
       "<table border=\"1\" class=\"dataframe\">\n",
       "  <thead>\n",
       "    <tr style=\"text-align: right;\">\n",
       "      <th></th>\n",
       "      <th>age</th>\n",
       "      <th>tsh</th>\n",
       "    </tr>\n",
       "    <tr>\n",
       "      <th>sex</th>\n",
       "      <th></th>\n",
       "      <th></th>\n",
       "    </tr>\n",
       "  </thead>\n",
       "  <tbody>\n",
       "    <tr>\n",
       "      <th>F</th>\n",
       "      <td>44.605866</td>\n",
       "      <td>6.536341</td>\n",
       "    </tr>\n",
       "    <tr>\n",
       "      <th>M</th>\n",
       "      <td>44.685022</td>\n",
       "      <td>4.547664</td>\n",
       "    </tr>\n",
       "  </tbody>\n",
       "</table>\n",
       "</div>"
      ],
      "text/plain": [
       "           age       tsh\n",
       "sex                     \n",
       "F    44.605866  6.536341\n",
       "M    44.685022  4.547664"
      ]
     },
     "execution_count": 21,
     "metadata": {},
     "output_type": "execute_result"
    }
   ],
   "source": [
    "df[['age', 'sex', 'tsh']].groupby(\"sex\").mean()"
   ]
  },
  {
   "cell_type": "markdown",
   "metadata": {},
   "source": [
    "## Data munging functions\n",
    "\n",
    "pandas provides a variety of other useful functions, including:\n",
    "\n",
    "```\n",
    "pivot\n",
    "pivot_tables\n",
    "stack/unstack\n",
    "melt\n",
    "get_dummies\n",
    "factorize\n",
    "```"
   ]
  },
  {
   "cell_type": "markdown",
   "metadata": {},
   "source": [
    "## Grouping and plotting!"
   ]
  },
  {
   "cell_type": "code",
   "execution_count": 22,
   "metadata": {
    "collapsed": false
   },
   "outputs": [],
   "source": [
    "grouped = df[['age', 'tsh']].groupby(\"age\").mean()"
   ]
  },
  {
   "cell_type": "code",
   "execution_count": 23,
   "metadata": {
    "collapsed": false
   },
   "outputs": [
    {
     "data": {
      "text/plain": [
       "<matplotlib.axes._subplots.AxesSubplot at 0x114bc31d0>"
      ]
     },
     "execution_count": 23,
     "metadata": {},
     "output_type": "execute_result"
    },
    {
     "data": {
      "image/png": "[encoded data removed]",
      "text/plain": [
       "<matplotlib.figure.Figure at 0x1149b4f60>"
      ]
     },
     "metadata": {},
     "output_type": "display_data"
    }
   ],
   "source": [
    "grouped.plot(figsize=(15,5))"
   ]
  }
 ],
 "metadata": {
  "kernelspec": {
   "display_name": "Python 3",
   "language": "python",
   "name": "python3"
  },
  "language_info": {
   "codemirror_mode": {
    "name": "ipython",
    "version": 3
   },
   "file_extension": ".py",
   "mimetype": "text/x-python",
   "name": "python",
   "nbconvert_exporter": "python",
   "pygments_lexer": "ipython3",
   "version": "3.5.2"
  }
 },
 "nbformat": 4,
 "nbformat_minor": 0
}
