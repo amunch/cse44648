{
 "cells": [
  {
   "cell_type": "code",
   "execution_count": 1,
   "metadata": {
    "collapsed": false
   },
   "outputs": [],
   "source": [
    "import tabletext\n",
    "import numpy as np\n",
    "from scipy.spatial import distance"
   ]
  },
  {
   "cell_type": "code",
   "execution_count": 2,
   "metadata": {
    "collapsed": true
   },
   "outputs": [],
   "source": [
    "def conv_timestr_to_minutes(x):\n",
    "    (hh,mm) = x.split(':')\n",
    "    return 60 * int(hh) + int(mm)"
   ]
  },
  {
   "cell_type": "code",
   "execution_count": 3,
   "metadata": {
    "collapsed": false
   },
   "outputs": [
    {
     "data": {
      "text/plain": [
       "0"
      ]
     },
     "execution_count": 3,
     "metadata": {},
     "output_type": "execute_result"
    }
   ],
   "source": [
    "conv_timestr_to_minutes('00:00')"
   ]
  },
  {
   "cell_type": "code",
   "execution_count": 4,
   "metadata": {
    "collapsed": false
   },
   "outputs": [
    {
     "data": {
      "text/plain": [
       "720"
      ]
     },
     "execution_count": 4,
     "metadata": {},
     "output_type": "execute_result"
    }
   ],
   "source": [
    "conv_timestr_to_minutes('12:00')"
   ]
  },
  {
   "cell_type": "code",
   "execution_count": 5,
   "metadata": {
    "collapsed": true
   },
   "outputs": [],
   "source": [
    "times = ['00:00', '03:00', '06:00', '09:00', '12:00', '15:00', '18:00', '21:00']"
   ]
  },
  {
   "cell_type": "code",
   "execution_count": 6,
   "metadata": {
    "collapsed": false
   },
   "outputs": [],
   "source": [
    "time_dist_matrix = []\n",
    "zz = ['']\n",
    "zz.extend(times)\n",
    "time_dist_matrix.append(zz)\n",
    "for i in xrange(len(times)):\n",
    "    time_dist_matrix.append([times[i]])\n",
    "    for j in xrange(len(times)):\n",
    "        time_dist_matrix[i+1].append(abs(conv_timestr_to_minutes(times[i]) - conv_timestr_to_minutes(times[j])))"
   ]
  },
  {
   "cell_type": "code",
   "execution_count": 7,
   "metadata": {
    "collapsed": false
   },
   "outputs": [
    {
     "name": "stdout",
     "output_type": "stream",
     "text": [
      "┌───────┬───────┬───────┬───────┬───────┬───────┬───────┬───────┬───────┐\n",
      "│       │ 00:00 │ 03:00 │ 06:00 │ 09:00 │ 12:00 │ 15:00 │ 18:00 │ 21:00 │\n",
      "├───────┼───────┼───────┼───────┼───────┼───────┼───────┼───────┼───────┤\n",
      "│ 00:00 │     0 │   180 │   360 │   540 │   720 │   900 │  1080 │  1260 │\n",
      "├───────┼───────┼───────┼───────┼───────┼───────┼───────┼───────┼───────┤\n",
      "│ 03:00 │   180 │     0 │   180 │   360 │   540 │   720 │   900 │  1080 │\n",
      "├───────┼───────┼───────┼───────┼───────┼───────┼───────┼───────┼───────┤\n",
      "│ 06:00 │   360 │   180 │     0 │   180 │   360 │   540 │   720 │   900 │\n",
      "├───────┼───────┼───────┼───────┼───────┼───────┼───────┼───────┼───────┤\n",
      "│ 09:00 │   540 │   360 │   180 │     0 │   180 │   360 │   540 │   720 │\n",
      "├───────┼───────┼───────┼───────┼───────┼───────┼───────┼───────┼───────┤\n",
      "│ 12:00 │   720 │   540 │   360 │   180 │     0 │   180 │   360 │   540 │\n",
      "├───────┼───────┼───────┼───────┼───────┼───────┼───────┼───────┼───────┤\n",
      "│ 15:00 │   900 │   720 │   540 │   360 │   180 │     0 │   180 │   360 │\n",
      "├───────┼───────┼───────┼───────┼───────┼───────┼───────┼───────┼───────┤\n",
      "│ 18:00 │  1080 │   900 │   720 │   540 │   360 │   180 │     0 │   180 │\n",
      "├───────┼───────┼───────┼───────┼───────┼───────┼───────┼───────┼───────┤\n",
      "│ 21:00 │  1260 │  1080 │   900 │   720 │   540 │   360 │   180 │     0 │\n",
      "└───────┴───────┴───────┴───────┴───────┴───────┴───────┴───────┴───────┘\n"
     ]
    }
   ],
   "source": [
    "print tabletext.to_text(time_dist_matrix)"
   ]
  },
  {
   "cell_type": "code",
   "execution_count": 8,
   "metadata": {
    "collapsed": true
   },
   "outputs": [],
   "source": [
    "def conv_timestr_to_polar(x):\n",
    "    #radius is constant, so just 1 is good\n",
    "    rho = 1\n",
    "    (hh,mm) = x.split(':')\n",
    "    phi = 2 * np.pi * (60.0 * int(hh) + int(mm)) / (24 * 60.0)\n",
    "    return (rho, phi)"
   ]
  },
  {
   "cell_type": "code",
   "execution_count": 9,
   "metadata": {
    "collapsed": true
   },
   "outputs": [],
   "source": [
    "def pol2cart(rho, phi):\n",
    "    x = rho * np.cos(phi)\n",
    "    y = rho * np.sin(phi)\n",
    "    return(x, y)"
   ]
  },
  {
   "cell_type": "code",
   "execution_count": 10,
   "metadata": {
    "collapsed": false
   },
   "outputs": [
    {
     "name": "stdout",
     "output_type": "stream",
     "text": [
      "(1, 0.0)\t(1.0, 0.0)\n",
      "(1, 0.7853981633974483)\t(0.70710678118654757, 0.70710678118654746)\n",
      "(1, 1.5707963267948966)\t(6.123233995736766e-17, 1.0)\n",
      "(1, 2.356194490192345)\t(-0.70710678118654746, 0.70710678118654757)\n",
      "(1, 3.141592653589793)\t(-1.0, 1.2246467991473532e-16)\n",
      "(1, 3.9269908169872414)\t(-0.70710678118654768, -0.70710678118654746)\n",
      "(1, 4.71238898038469)\t(-1.8369701987210297e-16, -1.0)\n",
      "(1, 5.497787143782138)\t(0.70710678118654735, -0.70710678118654768)\n"
     ]
    }
   ],
   "source": [
    "for t in times:\n",
    "    (rho, phi) = conv_timestr_to_polar(t)\n",
    "    (x, y) = pol2cart(rho, phi)\n",
    "    print '%s\\t%s' % ((rho, phi), (x, y))"
   ]
  },
  {
   "cell_type": "code",
   "execution_count": 11,
   "metadata": {
    "collapsed": false
   },
   "outputs": [],
   "source": [
    "time_dist_matrix = []\n",
    "zz = ['']\n",
    "zz.extend(times)\n",
    "time_dist_matrix.append(zz)\n",
    "for i in xrange(len(times)):\n",
    "    time_dist_matrix.append([times[i]])\n",
    "    for j in xrange(len(times)):\n",
    "        a=conv_timestr_to_polar(times[i])\n",
    "        b=conv_timestr_to_polar(times[j])\n",
    "        time_dist_matrix[i+1].append( '%.02f' % \n",
    "            distance.euclidean(\n",
    "                pol2cart(a[0], a[1]),\n",
    "                pol2cart(b[0], b[1]),\n",
    "            )\n",
    "        )"
   ]
  },
  {
   "cell_type": "code",
   "execution_count": 12,
   "metadata": {
    "collapsed": false
   },
   "outputs": [
    {
     "name": "stdout",
     "output_type": "stream",
     "text": [
      "┌───────┬───────┬───────┬───────┬───────┬───────┬───────┬───────┬───────┐\n",
      "│       │ 00:00 │ 03:00 │ 06:00 │ 09:00 │ 12:00 │ 15:00 │ 18:00 │ 21:00 │\n",
      "├───────┼───────┼───────┼───────┼───────┼───────┼───────┼───────┼───────┤\n",
      "│ 00:00 │ 0.00  │ 0.77  │ 1.41  │ 1.85  │ 2.00  │ 1.85  │ 1.41  │ 0.77  │\n",
      "├───────┼───────┼───────┼───────┼───────┼───────┼───────┼───────┼───────┤\n",
      "│ 03:00 │ 0.77  │ 0.00  │ 0.77  │ 1.41  │ 1.85  │ 2.00  │ 1.85  │ 1.41  │\n",
      "├───────┼───────┼───────┼───────┼───────┼───────┼───────┼───────┼───────┤\n",
      "│ 06:00 │ 1.41  │ 0.77  │ 0.00  │ 0.77  │ 1.41  │ 1.85  │ 2.00  │ 1.85  │\n",
      "├───────┼───────┼───────┼───────┼───────┼───────┼───────┼───────┼───────┤\n",
      "│ 09:00 │ 1.85  │ 1.41  │ 0.77  │ 0.00  │ 0.77  │ 1.41  │ 1.85  │ 2.00  │\n",
      "├───────┼───────┼───────┼───────┼───────┼───────┼───────┼───────┼───────┤\n",
      "│ 12:00 │ 2.00  │ 1.85  │ 1.41  │ 0.77  │ 0.00  │ 0.77  │ 1.41  │ 1.85  │\n",
      "├───────┼───────┼───────┼───────┼───────┼───────┼───────┼───────┼───────┤\n",
      "│ 15:00 │ 1.85  │ 2.00  │ 1.85  │ 1.41  │ 0.77  │ 0.00  │ 0.77  │ 1.41  │\n",
      "├───────┼───────┼───────┼───────┼───────┼───────┼───────┼───────┼───────┤\n",
      "│ 18:00 │ 1.41  │ 1.85  │ 2.00  │ 1.85  │ 1.41  │ 0.77  │ 0.00  │ 0.77  │\n",
      "├───────┼───────┼───────┼───────┼───────┼───────┼───────┼───────┼───────┤\n",
      "│ 21:00 │ 0.77  │ 1.41  │ 1.85  │ 2.00  │ 1.85  │ 1.41  │ 0.77  │ 0.00  │\n",
      "└───────┴───────┴───────┴───────┴───────┴───────┴───────┴───────┴───────┘\n"
     ]
    }
   ],
   "source": [
    "print tabletext.to_text(time_dist_matrix)"
   ]
  },
  {
   "cell_type": "code",
   "execution_count": null,
   "metadata": {
    "collapsed": true
   },
   "outputs": [],
   "source": []
  }
 ],
 "metadata": {
  "kernelspec": {
   "display_name": "Python 2",
   "language": "python",
   "name": "python2"
  },
  "language_info": {
   "codemirror_mode": {
    "name": "ipython",
    "version": 2
   },
   "file_extension": ".py",
   "mimetype": "text/x-python",
   "name": "python",
   "nbconvert_exporter": "python",
   "pygments_lexer": "ipython2",
   "version": "2.7.5"
  }
 },
 "nbformat": 4,
 "nbformat_minor": 2
}
