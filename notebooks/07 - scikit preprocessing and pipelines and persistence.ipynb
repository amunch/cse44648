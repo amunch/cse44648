{
 "cells": [
  {
   "cell_type": "code",
   "execution_count": 55,
   "metadata": {
    "collapsed": true
   },
   "outputs": [],
   "source": [
    "import numpy as np\n",
    "\n",
    "from sklearn.pipeline import Pipeline\n",
    "from sklearn.linear_model import LinearRegression\n",
    "from sklearn.preprocessing import Imputer, StandardScaler, MinMaxScaler"
   ]
  },
  {
   "cell_type": "code",
   "execution_count": 56,
   "metadata": {
    "collapsed": true
   },
   "outputs": [],
   "source": [
    "X = np.array([\n",
    "        [1, 2, 3, 4,      5],\n",
    "        [2, 3, 4, np.nan, 6],\n",
    "        [3, 4, np.nan, 6, 7],\n",
    "        [4, 5, np.nan, 7, 8],\n",
    "    ])\n",
    "Y = np.array([0, 1, 0, 1])"
   ]
  },
  {
   "cell_type": "code",
   "execution_count": 57,
   "metadata": {
    "collapsed": false
   },
   "outputs": [
    {
     "data": {
      "text/plain": [
       "array([[  1.,   2.,   3.,   4.,   5.],\n",
       "       [  2.,   3.,   4.,  nan,   6.],\n",
       "       [  3.,   4.,  nan,   6.,   7.],\n",
       "       [  4.,   5.,  nan,   7.,   8.]])"
      ]
     },
     "execution_count": 57,
     "metadata": {},
     "output_type": "execute_result"
    }
   ],
   "source": [
    "X"
   ]
  },
  {
   "cell_type": "code",
   "execution_count": 58,
   "metadata": {
    "collapsed": false
   },
   "outputs": [
    {
     "data": {
      "text/plain": [
       "array([[ 1.        ,  2.        ,  3.        ,  4.        ,  5.        ],\n",
       "       [ 2.        ,  3.        ,  4.        ,  5.66666667,  6.        ],\n",
       "       [ 3.        ,  4.        ,  3.5       ,  6.        ,  7.        ],\n",
       "       [ 4.        ,  5.        ,  3.5       ,  7.        ,  8.        ]])"
      ]
     },
     "execution_count": 58,
     "metadata": {},
     "output_type": "execute_result"
    }
   ],
   "source": [
    "imp = Imputer(missing_values=np.nan,\n",
    "              strategy=\"mean\",\n",
    "              axis=0)\n",
    "X_imp = imp.fit_transform(X)\n",
    "X_imp"
   ]
  },
  {
   "cell_type": "code",
   "execution_count": 72,
   "metadata": {
    "collapsed": false,
    "scrolled": false
   },
   "outputs": [
    {
     "data": {
      "text/plain": [
       "array([[-1.34164079, -1.34164079, -1.41421356, -1.5430335 , -1.34164079],\n",
       "       [-0.4472136 , -0.4472136 ,  1.41421356,  0.        , -0.4472136 ],\n",
       "       [ 0.4472136 ,  0.4472136 ,  0.        ,  0.3086067 ,  0.4472136 ],\n",
       "       [ 1.34164079,  1.34164079,  0.        ,  1.2344268 ,  1.34164079]])"
      ]
     },
     "execution_count": 72,
     "metadata": {},
     "output_type": "execute_result"
    }
   ],
   "source": [
    "scale = StandardScaler()\n",
    "X_scale = scale.fit_transform(X_imp)\n",
    "X_scale"
   ]
  },
  {
   "cell_type": "code",
   "execution_count": 77,
   "metadata": {
    "collapsed": false
   },
   "outputs": [
    {
     "data": {
      "text/plain": [
       "array([[ 0.        ,  0.        ,  0.        ,  0.        ,  0.        ],\n",
       "       [ 0.33333333,  0.33333333,  1.        ,  0.55555556,  0.33333333],\n",
       "       [ 0.66666667,  0.66666667,  0.5       ,  0.66666667,  0.66666667],\n",
       "       [ 1.        ,  1.        ,  0.5       ,  1.        ,  1.        ]])"
      ]
     },
     "execution_count": 77,
     "metadata": {},
     "output_type": "execute_result"
    }
   ],
   "source": [
    "scale = MinMaxScaler()\n",
    "X_mm = scale.fit_transform(X_imp)\n",
    "X_mm"
   ]
  },
  {
   "cell_type": "code",
   "execution_count": 78,
   "metadata": {
    "collapsed": false
   },
   "outputs": [],
   "source": [
    "imp_reg = LinearRegression()\n",
    "scale_reg = LinearRegression()\n",
    "mm_reg = LinearRegression()\n",
    "imp_model = imp_reg.fit(X_imp, Y)\n",
    "scale_model = scale_reg.fit(X_scale, Y)\n",
    "mm_model = mm_reg.fit(X_mm, Y)"
   ]
  },
  {
   "cell_type": "code",
   "execution_count": 79,
   "metadata": {
    "collapsed": false
   },
   "outputs": [
    {
     "name": "stdout",
     "output_type": "stream",
     "text": [
      "[-1.66666667 -1.66666667 -4.          6.         -1.66666667] 1.33333333333\n",
      "[-1.86338998 -1.86338998 -1.41421356  6.4807407  -1.86338998] 0.5\n",
      "[ -5.  -5.  -4.  18.  -5.] -1.7763568394e-15\n"
     ]
    }
   ],
   "source": [
    "print imp_model.coef_, imp_model.intercept_\n",
    "print scale_model.coef_, scale_model.intercept_\n",
    "print mm_model.coef_, mm_model.intercept_"
   ]
  },
  {
   "cell_type": "code",
   "execution_count": 80,
   "metadata": {
    "collapsed": false
   },
   "outputs": [
    {
     "name": "stdout",
     "output_type": "stream",
     "text": [
      "[ -5.32907052e-15   1.00000000e+00  -1.06581410e-14   1.00000000e+00]\n",
      "[ -3.33066907e-16   1.00000000e+00  -4.44089210e-16   1.00000000e+00]\n",
      "[ -1.77635684e-15   1.00000000e+00  -2.66453526e-15   1.00000000e+00]\n"
     ]
    }
   ],
   "source": [
    "print imp_model.predict(X_imp)\n",
    "print scale_model.predict(X_scale)\n",
    "print mm_model.predict(X_mm)"
   ]
  },
  {
   "cell_type": "code",
   "execution_count": 81,
   "metadata": {
    "collapsed": false
   },
   "outputs": [],
   "source": [
    "estimator = Pipeline([(\"imputer\", Imputer(missing_values=np.nan,\n",
    "                                          strategy=\"mean\",\n",
    "                                          axis=0)),\n",
    "                      (\"scaler\", StandardScaler()),\n",
    "                      (\"lr\", LinearRegression())\n",
    "                     ])"
   ]
  },
  {
   "cell_type": "code",
   "execution_count": 82,
   "metadata": {
    "collapsed": true
   },
   "outputs": [],
   "source": [
    "mdl = estimator.fit(X, Y)"
   ]
  },
  {
   "cell_type": "code",
   "execution_count": 83,
   "metadata": {
    "collapsed": false
   },
   "outputs": [
    {
     "name": "stdout",
     "output_type": "stream",
     "text": [
      "[ -3.33066907e-16   1.00000000e+00  -4.44089210e-16   1.00000000e+00]\n"
     ]
    }
   ],
   "source": [
    "print mdl.predict(X)"
   ]
  },
  {
   "cell_type": "code",
   "execution_count": 84,
   "metadata": {
    "collapsed": false
   },
   "outputs": [
    {
     "data": {
      "text/plain": [
       "['model.pkl',\n",
       " 'model.pkl_01.npy',\n",
       " 'model.pkl_02.npy',\n",
       " 'model.pkl_03.npy',\n",
       " 'model.pkl_04.npy',\n",
       " 'model.pkl_05.npy',\n",
       " 'model.pkl_06.npy',\n",
       " 'model.pkl_07.npy']"
      ]
     },
     "execution_count": 84,
     "metadata": {},
     "output_type": "execute_result"
    }
   ],
   "source": [
    "from sklearn.externals import joblib\n",
    "joblib.dump(mdl, 'model.pkl') "
   ]
  },
  {
   "cell_type": "code",
   "execution_count": 85,
   "metadata": {
    "collapsed": false
   },
   "outputs": [
    {
     "data": {
      "text/plain": [
       "array([ -3.33066907e-16,   1.00000000e+00,  -4.44089210e-16,\n",
       "         1.00000000e+00])"
      ]
     },
     "execution_count": 85,
     "metadata": {},
     "output_type": "execute_result"
    }
   ],
   "source": [
    "bob = joblib.load('model.pkl')\n",
    "bob.predict(X)"
   ]
  },
  {
   "cell_type": "code",
   "execution_count": 87,
   "metadata": {
    "collapsed": false
   },
   "outputs": [],
   "source": [
    "from sklearn.linear_model import Perceptron\n",
    "\n",
    "percep_estimator = Pipeline([(\"imputer\", Imputer(missing_values=np.nan,\n",
    "                                          strategy=\"mean\",\n",
    "                                          axis=0)),\n",
    "                      (\"scaler\", StandardScaler()),\n",
    "                      (\"perceptron\", Perceptron())\n",
    "                     ])"
   ]
  },
  {
   "cell_type": "code",
   "execution_count": 89,
   "metadata": {
    "collapsed": false
   },
   "outputs": [
    {
     "data": {
      "text/plain": [
       "Pipeline(steps=[('imputer', Imputer(axis=0, copy=True, missing_values=nan, strategy='mean', verbose=0)), ('scaler', StandardScaler(copy=True, with_mean=True, with_std=True)), ('perceptron', Perceptron(alpha=0.0001, class_weight=None, eta0=1.0, fit_intercept=True,\n",
       "      n_iter=5, n_jobs=1, penalty=None, random_state=0, shuffle=True,\n",
       "      verbose=0, warm_start=False))])"
      ]
     },
     "execution_count": 89,
     "metadata": {},
     "output_type": "execute_result"
    }
   ],
   "source": [
    "percep_estimator.fit(X, Y)"
   ]
  },
  {
   "cell_type": "code",
   "execution_count": 94,
   "metadata": {
    "collapsed": false
   },
   "outputs": [
    {
     "name": "stdout",
     "output_type": "stream",
     "text": [
      "('perceptron', Perceptron(alpha=0.0001, class_weight=None, eta0=1.0, fit_intercept=True,\n",
      "      n_iter=5, n_jobs=1, penalty=None, random_state=0, shuffle=True,\n",
      "      verbose=0, warm_start=False))\n"
     ]
    }
   ],
   "source": [
    "print percep_estimator.steps[2]"
   ]
  },
  {
   "cell_type": "code",
   "execution_count": null,
   "metadata": {
    "collapsed": true
   },
   "outputs": [],
   "source": []
  }
 ],
 "metadata": {
  "kernelspec": {
   "display_name": "Python 2",
   "language": "python",
   "name": "python2"
  },
  "language_info": {
   "codemirror_mode": {
    "name": "ipython",
    "version": 2
   },
   "file_extension": ".py",
   "mimetype": "text/x-python",
   "name": "python",
   "nbconvert_exporter": "python",
   "pygments_lexer": "ipython2",
   "version": "2.7.6"
  }
 },
 "nbformat": 4,
 "nbformat_minor": 0
}
